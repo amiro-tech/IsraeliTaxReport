{
 "cells": [
  {
   "cell_type": "markdown",
   "id": "4c86c12a",
   "metadata": {},
   "source": [
    "### [2] To instantiate the IsraeliTaxReport class (in the same directory as IsraeliTaxReport.py):"
   ]
  },
  {
   "cell_type": "code",
   "execution_count": 14,
   "id": "7f980fbe",
   "metadata": {},
   "outputs": [],
   "source": [
    "from IsraeliTaxReport import IsraeliTaxReport\n",
    "from datetime import datetime  # Only required for testing the conversion in [5], see below"
   ]
  },
  {
   "cell_type": "code",
   "execution_count": 2,
   "id": "87fc36fd",
   "metadata": {},
   "outputs": [],
   "source": [
    "csv_name = 'sample_custom_statement.csv'  # This is the custom statement generated in Interactive Brokers\n",
    "report = IsraeliTaxReport(csv_name)"
   ]
  },
  {
   "cell_type": "markdown",
   "id": "9e905a06",
   "metadata": {},
   "source": [
    "### [3] The 'form1325' method:\n",
    "Returns a Pandas dataframe corresponding to the Israeli tax form 1325. Assumes that relevant data (buy & sell orders) is found in .csv used by class.\n",
    "If ```save_as_csv=True```, also saves the output as a .csv file that can be used (almost as is) in place of form '1325' for the yearly tax report. Read more about submitting the Israeli tax report [here](https://fintranslator.com/israel-tax-return-example-2019/). The 'official' form 1325 can be seen [here](https://www.gov.il/blobFolder/service/annual-tax-report-2019/he/Service_Pages_Income_tax_itc1325-2019.pdf)."
   ]
  },
  {
   "cell_type": "code",
   "execution_count": 3,
   "id": "97696289",
   "metadata": {},
   "outputs": [],
   "source": [
    "form1325 = report.form1325(year='2021', save_as_csv=True)\n",
    "# form1325"
   ]
  },
  {
   "cell_type": "markdown",
   "id": "a639cf41",
   "metadata": {},
   "source": [
    "### [4] The 'get_from_csv' (static) method:\n",
    "Returns all the lines from a .csv file (```csv_name```) that contain the words given in a list (```match```) and does not contain the words given in another list (```exclude```). If ```match_all=True```, each line has to match all of the words in ```match```. The output is a list of lists, where the nested lists are the rows of interest. This method is useful for fetching any data from the input .csv file, for example:"
   ]
  },
  {
   "cell_type": "code",
   "execution_count": 7,
   "id": "eb2add0a",
   "metadata": {},
   "outputs": [],
   "source": [
    "dividends = report.get_from_csv(csv_name='sample_custom_statement.csv',\n",
    "                              match=[report.keywords['dividends']], \n",
    "                              exclude=[report.keywords['cash report']])\n",
    "# dividends"
   ]
  },
  {
   "cell_type": "markdown",
   "id": "19134a25",
   "metadata": {},
   "source": [
    "### [5] Attributes:\n",
    "#### Class Variables:"
   ]
  },
  {
   "cell_type": "code",
   "execution_count": 18,
   "id": "0f040279",
   "metadata": {},
   "outputs": [],
   "source": [
    "# report.keywords\n",
    "# report.form1325dict\n",
    "# report.converter.convert(1, report.forex, report.base_currency, datetime.strptime('2021-01-01', '%Y-%m-%d'))\n",
    "# report.forex\n",
    "# report.base_currency"
   ]
  },
  {
   "cell_type": "markdown",
   "id": "e55c2a7d",
   "metadata": {},
   "source": [
    "#### Instance Variables:"
   ]
  },
  {
   "cell_type": "code",
   "execution_count": 20,
   "id": "4c01b4ca",
   "metadata": {},
   "outputs": [],
   "source": [
    "# report.trades_df\n",
    "# report.stocks_df\n",
    "# report.stock_buys_df\n",
    "# report.stock_sells_df\n",
    "# report.dividends_df\n",
    "# report.ustax_paid_df"
   ]
  }
 ],
 "metadata": {
  "kernelspec": {
   "display_name": "Python 3 (ipykernel)",
   "language": "python",
   "name": "python3"
  },
  "language_info": {
   "codemirror_mode": {
    "name": "ipython",
    "version": 3
   },
   "file_extension": ".py",
   "mimetype": "text/x-python",
   "name": "python",
   "nbconvert_exporter": "python",
   "pygments_lexer": "ipython3",
   "version": "3.8.10"
  }
 },
 "nbformat": 4,
 "nbformat_minor": 5
}
