{
 "cells": [
  {
   "cell_type": "markdown",
   "id": "4c86c12a",
   "metadata": {},
   "source": [
    "### [2] To instantiate the IsraeliTaxReport class (in the same directory as IsraeliTaxReport.py):"
   ]
  },
  {
   "cell_type": "code",
   "execution_count": 1,
   "id": "7f980fbe",
   "metadata": {},
   "outputs": [],
   "source": [
    "from IsraeliTaxReport import IsraeliTaxReport"
   ]
  },
  {
   "cell_type": "code",
   "execution_count": 2,
   "id": "87fc36fd",
   "metadata": {},
   "outputs": [],
   "source": [
    "csv_name = 'sample_custom_statement.csv'  # This is the custom statement generated in Interactive Brokers\n",
    "report = IsraeliTaxReport(csv_name)"
   ]
  },
  {
   "cell_type": "code",
   "execution_count": null,
   "id": "26121f2d",
   "metadata": {},
   "outputs": [],
   "source": []
  }
 ],
 "metadata": {
  "kernelspec": {
   "display_name": "Python 3 (ipykernel)",
   "language": "python",
   "name": "python3"
  },
  "language_info": {
   "codemirror_mode": {
    "name": "ipython",
    "version": 3
   },
   "file_extension": ".py",
   "mimetype": "text/x-python",
   "name": "python",
   "nbconvert_exporter": "python",
   "pygments_lexer": "ipython3",
   "version": "3.8.10"
  }
 },
 "nbformat": 4,
 "nbformat_minor": 5
}
